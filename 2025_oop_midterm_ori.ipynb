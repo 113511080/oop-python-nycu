{
 "cells": [
  {
   "cell_type": "markdown",
   "id": "0211f55d",
   "metadata": {},
   "source": [
    "# 2025 Object-Oriented Programming Midterm Exam"
   ]
  },
  {
   "cell_type": "markdown",
   "id": "3a3116f5",
   "metadata": {},
   "source": [
    "## True-False Question"
   ]
  },
  {
   "cell_type": "code",
   "execution_count": null,
   "id": "2f4d0a88",
   "metadata": {},
   "outputs": [],
   "source": [
    "# Replace None with True or False\n",
    "1.\n",
    "None None None None None None\n",
    "2.\n",
    "None None None None None None\n",
    "3.\n",
    "None None None None None None\n",
    "4.\n",
    "None None None None None None\n",
    "5.\n",
    "None None None None None None"
   ]
  },
  {
   "cell_type": "markdown",
   "id": "b6661c93",
   "metadata": {},
   "source": [
    "## 1. Roman to Integer (LeetCode 13.)\n",
    "Roman numerals are represented by seven different symbols: I, V, X, L, C, D and M.\n",
    "\n",
    "| Symbol       | Value |\n",
    "| --- | --- |\n",
    "| I             | 1 |\n",
    "| V             | 5 |\n",
    "| X             | 10 |\n",
    "| L             | 50 |\n",
    "| C             | 100 |\n",
    "| D             | 500 |\n",
    "| M             | 1000 |\n",
    "\n",
    "For example, 2 is written as II in Roman numeral, just two ones added together. 12 is written as XII, which is simply X + II. The number 27 is written as XXVII, which is XX + V + II.\n",
    "\n",
    "Roman numerals are usually written largest to smallest from left to right. However, the numeral for four is not IIII. Instead, the number four is written as IV. Because the one is before the five we subtract it making four. The same principle applies to the number nine, which is written as IX. There are six instances where subtraction is used:\n",
    "\n",
    "I can be placed before V (5) and X (10) to make 4 and 9. \n",
    "X can be placed before L (50) and C (100) to make 40 and 90. \n",
    "C can be placed before D (500) and M (1000) to make 400 and 900.\n",
    "Given a roman numeral, convert it to an integer.\n",
    "\n",
    " \n",
    "\n",
    "### Example 1:\n",
    "\n",
    "Input: s = \"III\"\n",
    "\n",
    "Output: 3\n",
    "\n",
    "Explanation: III = 3.\n",
    "\n",
    "### Example 2:\n",
    "\n",
    "Input: s = \"LVIII\"\n",
    "\n",
    "Output: 58\n",
    "\n",
    "Explanation: L = 50, V= 5, III = 3.\n",
    "\n",
    "### Example 3:\n",
    "\n",
    "Input: s = \"MCMXCIV\"\n",
    "\n",
    "Output: 1994\n",
    "\n",
    "Explanation: M = 1000, CM = 900, XC = 90 and IV = 4.\n",
    " \n",
    "### Constraints:\n",
    "\n",
    "1 <= s.length <= 15\n",
    "\n",
    "s contains only the characters ('I', 'V', 'X', 'L', 'C', 'D', 'M').\n",
    "\n",
    "It is guaranteed that s is a valid roman numeral in the range [1, 3999]."
   ]
  },
  {
   "cell_type": "code",
   "execution_count": null,
   "id": "a7a2244a",
   "metadata": {},
   "outputs": [],
   "source": [
    "class Solution:\n",
    "    def romanToInt(self, s: str) -> int:\n",
    "        # Your code here"
   ]
  },
  {
   "cell_type": "code",
   "execution_count": null,
   "id": "d436d5cf",
   "metadata": {},
   "outputs": [],
   "source": [
    "assert Solution().romanToInt(\"III\") == 3\n",
    "assert Solution().romanToInt(\"LVIII\") == 58\n",
    "assert Solution().romanToInt(\"MCMXCIV\") == 1994\n",
    "# Add more test cases as needed"
   ]
  },
  {
   "cell_type": "markdown",
   "id": "28c5d4ae",
   "metadata": {
    "vscode": {
     "languageId": "plaintext"
    }
   },
   "source": [
    "## 2. Reversed Linked List (LeetCode 206.)\n",
    "Given the head of a singly linked list, reverse the list, and return the reversed list.\n",
    "\n",
    "### Example 1:\n",
    "\n",
    "![image](2-1.jpg)\n",
    "\n",
    "Input: head = [1,2,3,4,5]\n",
    "\n",
    "Output: [5,4,3,2,1]\n",
    "\n",
    "### Example 2:\n",
    "\n",
    "![image](2-2.jpg)\n",
    "\n",
    "Input: head = [1,2]\n",
    "\n",
    "Output: [2,1]\n",
    "\n",
    "### Example 3:\n",
    "\n",
    "Input: head = []\n",
    "\n",
    "Output: []\n",
    " \n",
    "### Constraints:\n",
    "\n",
    "The number of nodes in the list is the range [0, 5000].\n",
    "\n",
    "-5000 <= Node.val <= 5000"
   ]
  },
  {
   "cell_type": "code",
   "execution_count": 1,
   "id": "5e2138e2",
   "metadata": {},
   "outputs": [],
   "source": [
    "# Definition for singly-linked list.\n",
    "class ListNode:\n",
    "    def __init__(self, val=0, next=None):\n",
    "        self.val = val\n",
    "        self.next = next\n",
    "\n",
    "# Definition for singly-linked list.\n",
    "from typing import Optional\n",
    "class Solution:\n",
    "    def reverseList(self, head: Optional[ListNode]) -> list:\n",
    "        # Your code here\n",
    "        new_head = head\n",
    "        if head and head.next:\n",
    "            new_head = self.reverseList(head.next)\n",
    "            head.next.next = head\n",
    "            head.next = None\n",
    "        return new_head"
   ]
  },
  {
   "cell_type": "code",
   "execution_count": 2,
   "id": "e66f8a12",
   "metadata": {},
   "outputs": [
    {
     "ename": "AttributeError",
     "evalue": "'list' object has no attribute 'next'",
     "output_type": "error",
     "traceback": [
      "\u001b[0;31m---------------------------------------------------------------------------\u001b[0m",
      "\u001b[0;31mAttributeError\u001b[0m                            Traceback (most recent call last)",
      "Cell \u001b[0;32mIn[2], line 1\u001b[0m\n\u001b[0;32m----> 1\u001b[0m \u001b[38;5;28;01massert\u001b[39;00m \u001b[43mSolution\u001b[49m\u001b[43m(\u001b[49m\u001b[43m)\u001b[49m\u001b[38;5;241;43m.\u001b[39;49m\u001b[43mreverseList\u001b[49m\u001b[43m(\u001b[49m\u001b[43m[\u001b[49m\u001b[38;5;241;43m1\u001b[39;49m\u001b[43m,\u001b[49m\u001b[43m \u001b[49m\u001b[38;5;241;43m2\u001b[39;49m\u001b[43m,\u001b[49m\u001b[43m \u001b[49m\u001b[38;5;241;43m3\u001b[39;49m\u001b[43m,\u001b[49m\u001b[43m \u001b[49m\u001b[38;5;241;43m4\u001b[39;49m\u001b[43m,\u001b[49m\u001b[43m \u001b[49m\u001b[38;5;241;43m5\u001b[39;49m\u001b[43m]\u001b[49m\u001b[43m)\u001b[49m \u001b[38;5;241m==\u001b[39m [\u001b[38;5;241m5\u001b[39m, \u001b[38;5;241m4\u001b[39m, \u001b[38;5;241m3\u001b[39m, \u001b[38;5;241m2\u001b[39m, \u001b[38;5;241m1\u001b[39m]\n\u001b[1;32m      2\u001b[0m \u001b[38;5;28;01massert\u001b[39;00m Solution()\u001b[38;5;241m.\u001b[39mreverseList([\u001b[38;5;241m1\u001b[39m, \u001b[38;5;241m2\u001b[39m]) \u001b[38;5;241m==\u001b[39m [\u001b[38;5;241m2\u001b[39m, \u001b[38;5;241m1\u001b[39m]\n\u001b[1;32m      3\u001b[0m \u001b[38;5;28;01massert\u001b[39;00m Solution()\u001b[38;5;241m.\u001b[39mreverseList([]) \u001b[38;5;241m==\u001b[39m []\n",
      "Cell \u001b[0;32mIn[1], line 13\u001b[0m, in \u001b[0;36mSolution.reverseList\u001b[0;34m(self, head)\u001b[0m\n\u001b[1;32m     10\u001b[0m \u001b[38;5;28;01mdef\u001b[39;00m \u001b[38;5;21mreverseList\u001b[39m(\u001b[38;5;28mself\u001b[39m, head: Optional[ListNode]) \u001b[38;5;241m-\u001b[39m\u001b[38;5;241m>\u001b[39m \u001b[38;5;28mlist\u001b[39m:\n\u001b[1;32m     11\u001b[0m     \u001b[38;5;66;03m# Your code here\u001b[39;00m\n\u001b[1;32m     12\u001b[0m     new_head \u001b[38;5;241m=\u001b[39m head\n\u001b[0;32m---> 13\u001b[0m     \u001b[38;5;28;01mif\u001b[39;00m head \u001b[38;5;129;01mand\u001b[39;00m \u001b[43mhead\u001b[49m\u001b[38;5;241;43m.\u001b[39;49m\u001b[43mnext\u001b[49m:\n\u001b[1;32m     14\u001b[0m         new_head \u001b[38;5;241m=\u001b[39m \u001b[38;5;28mself\u001b[39m\u001b[38;5;241m.\u001b[39mreverseList(head\u001b[38;5;241m.\u001b[39mnext)\n\u001b[1;32m     15\u001b[0m         head\u001b[38;5;241m.\u001b[39mnext\u001b[38;5;241m.\u001b[39mnext \u001b[38;5;241m=\u001b[39m head\n",
      "\u001b[0;31mAttributeError\u001b[0m: 'list' object has no attribute 'next'"
     ]
    }
   ],
   "source": [
    "assert Solution().reverseList([1, 2, 3, 4, 5]) == [5, 4, 3, 2, 1]\n",
    "assert Solution().reverseList([1, 2]) == [2, 1]\n",
    "assert Solution().reverseList([]) == []\n",
    "# Add more test cases as needed"
   ]
  },
  {
   "cell_type": "markdown",
   "id": "371ce983",
   "metadata": {},
   "source": [
    "## 3. Evaluate Boolean Binary Tree (LeetCode 2331.)\n",
    "\n",
    "You are given the root of a full binary tree with the following properties:\n",
    "\n",
    "Leaf nodes have either the value 0 or 1, where 0 represents False and 1 represents True.\n",
    "\n",
    "Non-leaf nodes have either the value 2 or 3, where 2 represents the boolean OR and 3 represents the boolean AND.\n",
    "\n",
    "The evaluation of a node is as follows:\n",
    "\n",
    "If the node is a leaf node, the evaluation is the value of the node, i.e. True or False.\n",
    "\n",
    "Otherwise, evaluate the node's two children and apply the boolean operation of its value with the children's evaluations.\n",
    "\n",
    "Return the boolean result of evaluating the root node.\n",
    "\n",
    "A full binary tree is a binary tree where each node has either 0 or 2 children.\n",
    "\n",
    "A leaf node is a node that has zero children.\n",
    "\n",
    " \n",
    "\n",
    "### Example 1:\n",
    "\n",
    "![image](3-1.png)\n",
    "\n",
    "Input: root = [2,1,3,null,null,0,1]\n",
    "\n",
    "Output: true\n",
    "\n",
    "Explanation: The above diagram illustrates the evaluation process.\n",
    "\n",
    "The AND node evaluates to False AND True = False.\n",
    "\n",
    "The OR node evaluates to True OR False = True.\n",
    "\n",
    "The root node evaluates to True, so we return true.\n",
    "\n",
    "### Example 2:\n",
    "\n",
    "Input: root = [0]\n",
    "\n",
    "Output: false\n",
    "\n",
    "Explanation: The root node is a leaf node and it evaluates to false, so we return false.\n",
    " \n",
    "\n",
    "### Constraints:\n",
    "\n",
    "The number of nodes in the tree is in the range [1, 1000].\n",
    "\n",
    "0 <= Node.val <= 3\n",
    "\n",
    "Every node has either 0 or 2 children.\n",
    "\n",
    "Leaf nodes have a value of 0 or 1.\n",
    "\n",
    "Non-leaf nodes have a value of 2 or 3.\n"
   ]
  },
  {
   "cell_type": "code",
   "execution_count": null,
   "id": "7aa128d5",
   "metadata": {},
   "outputs": [],
   "source": [
    "# Definition for a binary tree node.\n",
    "# class TreeNode:\n",
    "#     def __init__(self, val=0, left=None, right=None):\n",
    "#         self.val = val\n",
    "#         self.left = left\n",
    "#         self.right = right\n",
    "class Solution:\n",
    "    def evaluateTree(self, root: Optional[TreeNode]) -> bool:\n",
    "        # Your code here"
   ]
  },
  {
   "cell_type": "code",
   "execution_count": null,
   "id": "54d8f03d",
   "metadata": {},
   "outputs": [],
   "source": [
    "assert Solution().evaluateTree([2, 1, 3, None, None, 0, 1]) ==  True\n",
    "assert Solution().evaluateTree([0]) == False\n",
    "# Add more test cases as needed"
   ]
  },
  {
   "cell_type": "markdown",
   "id": "47dda352",
   "metadata": {},
   "source": [
    "## 4. Find if Path Exists in Graph (LeetCode 1971.)\n",
    "\n",
    "There is a bi-directional graph with n vertices, where each vertex is labeled from 0 to n - 1 (inclusive). The edges in the graph are represented as a 2D integer array edges, where each edges[i] = [ui, vi] denotes a bi-directional edge between vertex ui and vertex vi. Every vertex pair is connected by at most one edge, and no vertex has an edge to itself.\n",
    "\n",
    "You want to determine if there is a valid path that exists from vertex source to vertex destination.\n",
    "\n",
    "Given edges and the integers n, source, and destination, return true if there is a valid path from source to destination, or false otherwise.\n",
    "\n",
    " \n",
    "\n",
    "### Example 1:\n",
    "\n",
    "![image](4-1.png)\n",
    "\n",
    "Input: n = 3, edges = [[0,1],[1,2],[2,0]], source = 0, destination = 2\n",
    "\n",
    "Output: true\n",
    "\n",
    "Explanation: There are two paths from vertex 0 to vertex 2:\n",
    "\n",
    "- 0 → 1 → 2\n",
    "- 0 → 2\n",
    "\n",
    "### Example 2:\n",
    "\n",
    "![image](4-2.png)\n",
    "\n",
    "Input: n = 6, edges = [[0,1],[0,2],[3,5],[5,4],[4,3]], source = 0, destination = 5\n",
    "\n",
    "Output: false\n",
    "\n",
    "Explanation: There is no path from vertex 0 to vertex 5.\n",
    " \n",
    "\n",
    "### Constraints:\n",
    "\n",
    "1 <= n <= 2 * 105\n",
    "\n",
    "0 <= edges.length <= 2 * 105\n",
    "\n",
    "edges[i].length == 2\n",
    "\n",
    "0 <= ui, vi <= n - 1\n",
    "\n",
    "ui != vi\n",
    "\n",
    "0 <= source, destination <= n - 1\n",
    "\n",
    "There are no duplicate edges.\n",
    "\n",
    "There are no self edges."
   ]
  },
  {
   "cell_type": "code",
   "execution_count": null,
   "id": "9a40b447",
   "metadata": {},
   "outputs": [],
   "source": [
    "class Solution:\n",
    "    def validPath(self, n: int, edges: List[List[int]], source: int, destination: int) -> bool:\n",
    "        # Your code here"
   ]
  },
  {
   "cell_type": "code",
   "execution_count": null,
   "id": "a7d5721c",
   "metadata": {},
   "outputs": [],
   "source": [
    "assert Solution().validPath(3, [[0,1],[1,2],[2,0]], 0, 2) == True\n",
    "assert Solution().validPath(6, [[0,1],[0,2],[0,3],[1,4],[2,4],[3,5]], 0, 5) == False\n",
    "# Add more test cases as needed"
   ]
  }
 ],
 "metadata": {
  "kernelspec": {
   "display_name": "Python 3 (ipykernel)",
   "language": "python",
   "name": "python3"
  },
  "language_info": {
   "codemirror_mode": {
    "name": "ipython",
    "version": 3
   },
   "file_extension": ".py",
   "mimetype": "text/x-python",
   "name": "python",
   "nbconvert_exporter": "python",
   "pygments_lexer": "ipython3",
   "version": "3.8.10"
  }
 },
 "nbformat": 4,
 "nbformat_minor": 5
}
