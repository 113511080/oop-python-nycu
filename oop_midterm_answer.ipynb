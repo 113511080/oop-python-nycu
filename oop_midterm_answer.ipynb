{
 "cells": [
  {
   "cell_type": "markdown",
   "id": "bbfe83b9",
   "metadata": {
    "id": "7d2341d0",
    "nbgrader": {
     "grade": false,
     "grade_id": "Midterm_intro",
     "locked": true,
     "schema_version": 3,
     "solution": false,
     "task": false
    }
   },
   "source": [
    "# Midterm Exam\n",
    "There will be 2 part for you to:  \n",
    "first part is the hand writing to answer True or False to some python theory (20%)  \n",
    "Second part is coding you need to finish the code to get the score (100%)"
   ]
  },
  {
   "cell_type": "markdown",
   "id": "ddbc73ac",
   "metadata": {
    "id": "bf076845",
    "nbgrader": {
     "grade": false,
     "grade_id": "Q1_into",
     "locked": true,
     "schema_version": 3,
     "solution": false,
     "task": false
    }
   },
   "source": [
    "## Question 1（15pts）:\n",
    "Write a Python function that takes in a list of integers as input and returns a new list containing only the even numbers from the original list."
   ]
  },
  {
   "cell_type": "code",
   "execution_count": 4,
   "id": "0b51f1be",
   "metadata": {
    "id": "9414e9aa",
    "nbgrader": {
     "grade": false,
     "grade_id": "Q1_answer",
     "locked": false,
     "schema_version": 3,
     "solution": true,
     "task": false
    }
   },
   "outputs": [],
   "source": [
    "def get_even_numbers(input_list):\n",
    "    output_list = []\n",
    "    ###BEGIN SOLUTION\n",
    "    for num in input_list:\n",
    "        if num % 2 == 0:\n",
    "            output_list.append(num)\n",
    "    ###END SOLUTION\n",
    "    return output_list"
   ]
  },
  {
   "cell_type": "code",
   "execution_count": 5,
   "id": "b772e8b0",
   "metadata": {
    "id": "30a56bb2",
    "nbgrader": {
     "grade": true,
     "grade_id": "Q1_test1",
     "locked": true,
     "points": 3,
     "schema_version": 3,
     "solution": false,
     "task": false
    }
   },
   "outputs": [],
   "source": [
    "#3points\n",
    "answer = get_even_numbers([1, 2, 3, 4, 5, 6, 7, 8, 9])\n",
    "assert answer == [2, 4, 6, 8]"
   ]
  },
  {
   "cell_type": "code",
   "execution_count": 6,
   "id": "d0771585",
   "metadata": {
    "id": "68bc209d",
    "nbgrader": {
     "grade": true,
     "grade_id": "Q1_test2",
     "locked": true,
     "points": 3,
     "schema_version": 3,
     "solution": false,
     "task": false
    }
   },
   "outputs": [],
   "source": [
    "#3points\n",
    "answer = get_even_numbers([10, 15, 20, 25])\n",
    "assert answer == [10, 20]"
   ]
  },
  {
   "cell_type": "code",
   "execution_count": 7,
   "id": "56d4b59a",
   "metadata": {
    "id": "fb75a623",
    "nbgrader": {
     "grade": true,
     "grade_id": "Q1_test3",
     "locked": true,
     "points": 4,
     "schema_version": 3,
     "solution": false,
     "task": false
    }
   },
   "outputs": [],
   "source": [
    "#4points\n",
    "#HIDDEN TEST\n",
    "### BEGIN HIDDEN TESTS\n",
    "answer = get_even_numbers([2, 15, 201, 25, 999, 1111])\n",
    "assert answer == [2]\n",
    "### END HIDDEN TESTS"
   ]
  },
  {
   "cell_type": "code",
   "execution_count": 8,
   "id": "a419ad3e",
   "metadata": {
    "id": "682ae9e8",
    "nbgrader": {
     "grade": true,
     "grade_id": "Q1_test4",
     "locked": true,
     "points": 5,
     "schema_version": 3,
     "solution": false,
     "task": false
    }
   },
   "outputs": [],
   "source": [
    "#5points\n",
    "#HIDDEN TEST\n",
    "### BEGIN HIDDEN TESTS\n",
    "answer = get_even_numbers([15, 201, 25, 999, 1111])\n",
    "assert answer == []\n",
    "### END HIDDEN TESTS"
   ]
  },
  {
   "cell_type": "markdown",
   "id": "a0948790",
   "metadata": {
    "id": "ddbac280",
    "nbgrader": {
     "grade": false,
     "grade_id": "Q2_intro",
     "locked": true,
     "schema_version": 3,
     "solution": false,
     "task": false
    }
   },
   "source": [
    "## Question 2（15pts）:\n",
    "Write a Python function that takes in a list of strings as input and returns the longest string in the list.  If there are multiple strings of the same length that are the longest, your function should return the first one."
   ]
  },
  {
   "cell_type": "code",
   "execution_count": 9,
   "id": "dd0c34e9",
   "metadata": {
    "id": "bd53bc13",
    "nbgrader": {
     "grade": false,
     "grade_id": "Q2_answer",
     "locked": false,
     "schema_version": 3,
     "solution": true,
     "task": false
    }
   },
   "outputs": [],
   "source": [
    "def get_longest_string(input_list):\n",
    "    longest_string = ''\n",
    "    ### BEGIN SOLUTION\n",
    "    for string in input_list:\n",
    "        if len(string) > len(longest_string):\n",
    "            longest_string = string\n",
    "    ###END SOLUTION\n",
    "    return longest_string"
   ]
  },
  {
   "cell_type": "code",
   "execution_count": 10,
   "id": "ce8bf46b",
   "metadata": {
    "id": "95dd6b92",
    "nbgrader": {
     "grade": true,
     "grade_id": "Q2_test1",
     "locked": true,
     "points": 3,
     "schema_version": 3,
     "solution": false,
     "task": false
    }
   },
   "outputs": [],
   "source": [
    "#3points\n",
    "answer = get_longest_string(['apple', 'banana', 'cherry', 'date'])\n",
    "assert answer == 'banana'"
   ]
  },
  {
   "cell_type": "code",
   "execution_count": 11,
   "id": "f1f0d5ec",
   "metadata": {
    "id": "669f3be8",
    "nbgrader": {
     "grade": true,
     "grade_id": "Q2_test2",
     "locked": true,
     "points": 3,
     "schema_version": 3,
     "solution": false,
     "task": false
    }
   },
   "outputs": [],
   "source": [
    "#3points\n",
    "answer = get_longest_string(['apple', 'cherry', 'dates'])\n",
    "assert answer == 'cherry'"
   ]
  },
  {
   "cell_type": "code",
   "execution_count": 12,
   "id": "75b8a9fd",
   "metadata": {
    "id": "679095a8",
    "nbgrader": {
     "grade": true,
     "grade_id": "Q2_test3",
     "locked": true,
     "points": 4,
     "schema_version": 3,
     "solution": false,
     "task": false
    }
   },
   "outputs": [],
   "source": [
    "#4points\n",
    "#HIDDEN TEST\n",
    "### BEGIN HIDDEN TESTS\n",
    "answer = get_longest_string(['apple', 'cherry', 'dates', 'apples'])\n",
    "assert answer == 'cherry'\n",
    "### END HIDDEN TESTS"
   ]
  },
  {
   "cell_type": "code",
   "execution_count": 13,
   "id": "a4263332",
   "metadata": {
    "id": "7331564f",
    "nbgrader": {
     "grade": true,
     "grade_id": "Q2_test4",
     "locked": true,
     "points": 5,
     "schema_version": 3,
     "solution": false,
     "task": false
    }
   },
   "outputs": [],
   "source": [
    "#5points\n",
    "#HIDDEN TEST\n",
    "### BEGIN HIDDEN TESTS\n",
    "answer = get_longest_string(['apples', 'cherry', 'dates', 'apple'])\n",
    "assert answer == 'apples'\n",
    "### END HIDDEN TESTS"
   ]
  },
  {
   "cell_type": "markdown",
   "id": "ade95524",
   "metadata": {
    "id": "54919288",
    "nbgrader": {
     "grade": false,
     "grade_id": "Q3_intro",
     "locked": true,
     "schema_version": 3,
     "solution": false,
     "task": false
    }
   },
   "source": [
    "## Question 3(15pts):\n",
    "Write a Python function get_nth_element(tuples, n) that takes a list of tuples tuples and an integer n as input and returns a new tuple containing the nth element from each tuple in the input list.  \n",
    "For example, if tuples = [(1, 2, 3), ('a', 'b', 'c'), (True, False, True)] and n = 1, the function should return the tuple (2, 'b', False)."
   ]
  },
  {
   "cell_type": "code",
   "execution_count": 14,
   "id": "c3741a39",
   "metadata": {
    "id": "36ae10dc",
    "nbgrader": {
     "grade": false,
     "grade_id": "Q3_answer",
     "locked": false,
     "schema_version": 3,
     "solution": true,
     "task": false
    }
   },
   "outputs": [],
   "source": [
    "def get_nth_element(tuples, n):\n",
    "    result = []\n",
    "    ### BEGIN SOLUTION\n",
    "    for t in tuples:\n",
    "        result.append(t[n])\n",
    "    ### END SOLUTION\n",
    "    return tuple(result)"
   ]
  },
  {
   "cell_type": "code",
   "execution_count": 15,
   "id": "57a375b5",
   "metadata": {
    "id": "000670a8",
    "nbgrader": {
     "grade": true,
     "grade_id": "Q3_test1",
     "locked": true,
     "points": 3,
     "schema_version": 3,
     "solution": false,
     "task": false
    }
   },
   "outputs": [],
   "source": [
    "#3points\n",
    "answer = get_nth_element([(1, 2, 3), ('a', 'b', 'c'), (True, False, True)], 1)\n",
    "assert answer == (2, 'b', False)"
   ]
  },
  {
   "cell_type": "code",
   "execution_count": 16,
   "id": "8549649e",
   "metadata": {
    "id": "010b5ba9",
    "nbgrader": {
     "grade": true,
     "grade_id": "Q3_test2",
     "locked": true,
     "points": 3,
     "schema_version": 3,
     "solution": false,
     "task": false
    }
   },
   "outputs": [],
   "source": [
    "#3points\n",
    "answer = get_nth_element([(1, 2, 3), ('a', 'b', 'c'), (True, False, True)], 0)\n",
    "assert answer == (1, 'a', True)"
   ]
  },
  {
   "cell_type": "code",
   "execution_count": 17,
   "id": "f9866cf1",
   "metadata": {
    "id": "1f880c65",
    "nbgrader": {
     "grade": true,
     "grade_id": "Q3_test3",
     "locked": true,
     "points": 4,
     "schema_version": 3,
     "solution": false,
     "task": false
    }
   },
   "outputs": [],
   "source": [
    "#4points\n",
    "#HIDDEN TEST\n",
    "### BEGIN HIDDEN TESTS\n",
    "answer = get_nth_element([(1, 2, 3), ('a', 'b', 'c'), (True, False, True), ('hi', 'love', 'you')], 2)\n",
    "assert answer == (3, 'c', True, 'you')\n",
    "### END HIDDEN TESTS"
   ]
  },
  {
   "cell_type": "code",
   "execution_count": 18,
   "id": "9a16432f",
   "metadata": {
    "id": "10b0c870",
    "nbgrader": {
     "grade": true,
     "grade_id": "Q3_test4",
     "locked": true,
     "points": 5,
     "schema_version": 3,
     "solution": false,
     "task": false
    }
   },
   "outputs": [],
   "source": [
    "#5points\n",
    "#HIDDEN TEST\n",
    "### BEGIN HIDDEN TESTS\n",
    "answer = get_nth_element([('a', 'T', 'c'), ('R', 'A', 'D'), ('bb', 'so', 'qqq'), ('hi', 'smart', 'you')], 1)\n",
    "assert answer == ('T', 'A', 'so', 'smart')\n",
    "### END HIDDEN TESTS"
   ]
  },
  {
   "cell_type": "markdown",
   "id": "37525b02",
   "metadata": {
    "id": "520c94a5",
    "nbgrader": {
     "grade": false,
     "grade_id": "pyramid_into",
     "locked": true,
     "schema_version": 3,
     "solution": false,
     "task": false
    }
   },
   "source": [
    "## Question 4 (10pts):\n",
    "Write a Python function pyramid(height) to return a pyramid (type: list)  \n",
    "input: height (type: int), height must larger than 1  \n",
    "return: pyramid (type: list)\n",
    "\n",
    "```\n",
    "example:\n",
    "pyramid(2) = [' * ','***']\n",
    "pyramid(3) = ['  *  ',' *** ', '*****']\n",
    "you can use print_pyramid() to check the result is correct not.\n",
    "```"
   ]
  },
  {
   "cell_type": "code",
   "execution_count": 19,
   "id": "66ecfd01",
   "metadata": {
    "id": "b8686a6b",
    "nbgrader": {
     "grade": false,
     "grade_id": "pyramid_answer",
     "locked": false,
     "schema_version": 3,
     "solution": true,
     "task": false
    }
   },
   "outputs": [],
   "source": [
    "def pyramid(height):\n",
    "    pyramid_list = []\n",
    "    ###BEGIN SOLUTION \n",
    "    width = 2*height -1\n",
    "    for i in reversed(range(height)):\n",
    "        pyramid_layer = \"\"\n",
    "        for j in range(1,width+1):\n",
    "            if j <= i or j > width - i:\n",
    "                pyramid_layer += ' '\n",
    "            else:\n",
    "                pyramid_layer += '*'\n",
    "        pyramid_list.append(pyramid_layer)\n",
    "    ###END SOLUTION\n",
    "    return pyramid_list\n",
    "            "
   ]
  },
  {
   "cell_type": "code",
   "execution_count": 20,
   "id": "39d7ec0b",
   "metadata": {
    "id": "4290c5a5",
    "nbgrader": {
     "grade": false,
     "grade_id": "pyramid_print",
     "locked": true,
     "schema_version": 3,
     "solution": false,
     "task": false
    }
   },
   "outputs": [],
   "source": [
    "def print_pyramid(pyramid_list):\n",
    "    for layer in pyramid_list:\n",
    "        print(layer)"
   ]
  },
  {
   "cell_type": "code",
   "execution_count": 21,
   "id": "772a2f6f",
   "metadata": {
    "id": "6b262df3",
    "nbgrader": {
     "grade": true,
     "grade_id": "pyramid_test1",
     "locked": true,
     "points": 3,
     "schema_version": 3,
     "solution": false,
     "task": false
    },
    "outputId": "c23f9781-5873-46ad-de18-b234c15bfc4c"
   },
   "outputs": [
    {
     "name": "stdout",
     "output_type": "stream",
     "text": [
      " * \n",
      "***\n"
     ]
    }
   ],
   "source": [
    "#3points\n",
    "assert pyramid(2) == [' * ','***']\n",
    "print_pyramid(pyramid(2))"
   ]
  },
  {
   "cell_type": "code",
   "execution_count": 22,
   "id": "32f1d754",
   "metadata": {
    "id": "555acf11",
    "nbgrader": {
     "grade": true,
     "grade_id": "pyramid_test2",
     "locked": true,
     "points": 3,
     "schema_version": 3,
     "solution": false,
     "task": false
    },
    "outputId": "10a4471e-ae9f-4cea-b993-7a613cbaeb15",
    "scrolled": true
   },
   "outputs": [
    {
     "name": "stdout",
     "output_type": "stream",
     "text": [
      "  *  \n",
      " *** \n",
      "*****\n"
     ]
    }
   ],
   "source": [
    "#3points\n",
    "assert pyramid(3) == ['  *  ',' *** ','*****']\n",
    "print_pyramid(pyramid(3))"
   ]
  },
  {
   "cell_type": "code",
   "execution_count": 24,
   "id": "95156cd4",
   "metadata": {
    "id": "1d80b7a9",
    "nbgrader": {
     "grade": true,
     "grade_id": "pyramid_test3",
     "locked": true,
     "points": 4,
     "schema_version": 3,
     "solution": false,
     "task": false
    }
   },
   "outputs": [],
   "source": [
    "#4points\n",
    "#HIDDEN TEST\n",
    "###BEGIN HIDDEN TESTS\n",
    "assert pyramid(6) == ['     *     ', '    ***    ', '   *****   ', '  *******  ', ' ********* ', '***********']\n",
    "###END HIDDEN TESTS"
   ]
  },
  {
   "cell_type": "markdown",
   "id": "99948756",
   "metadata": {
    "id": "0e6443ad",
    "nbgrader": {
     "grade": false,
     "grade_id": "recursion_intro",
     "locked": true,
     "schema_version": 3,
     "solution": false,
     "task": false
    }
   },
   "source": [
    "## Question 5 (10pts):\n",
    "Write a Python function () to return a result (type: bool)  \n",
    "input: string (type: str) input will not be an empty string  \n",
    "return: result (type: bool)  if input string is palidrome-> True / input string is not palidrome-> False\n",
    "'''  \n",
    "example1:  \n",
    "is_palindrom('goddog') -> will return True  \n",
    "is_palindrom('apple') -> will return False  \n",
    "'''                         "
   ]
  },
  {
   "cell_type": "code",
   "execution_count": 25,
   "id": "9081fc59",
   "metadata": {
    "id": "f728bf6b",
    "nbgrader": {
     "grade": false,
     "grade_id": "palindrome_ans",
     "locked": false,
     "schema_version": 3,
     "solution": true,
     "task": false
    }
   },
   "outputs": [],
   "source": [
    "def is_palindrome(string):\n",
    "    ###BEGIN SOLUTION\n",
    "    string = string.lower()  # Convert to lowercase for case-insensitive comparison\n",
    "    string = string.replace(\" \", \"\")  # Remove spaces for space-insensitive comparison\n",
    "\n",
    "    def check_palindrome(left, right):\n",
    "        if left >= right:\n",
    "            return True  # Base case: the substring is a palindrome\n",
    "        elif string[left] != string[right]:\n",
    "            return False  # Base case: the substring is not a palindrome\n",
    "        else:\n",
    "            return check_palindrome(left + 1, right - 1)  # Recurse on inner substring\n",
    "\n",
    "    return check_palindrome(0, len(string) - 1)  # Start with the entire string\n",
    "    ###END SOLUTION"
   ]
  },
  {
   "cell_type": "code",
   "execution_count": 26,
   "id": "2599637d",
   "metadata": {
    "id": "52341166",
    "nbgrader": {
     "grade": true,
     "grade_id": "palindrome_test1",
     "locked": true,
     "points": 1,
     "schema_version": 3,
     "solution": false,
     "task": false
    }
   },
   "outputs": [],
   "source": [
    "#1points\n",
    "assert is_palindrome(\"goddog\")  == True"
   ]
  },
  {
   "cell_type": "code",
   "execution_count": 27,
   "id": "b094a827",
   "metadata": {
    "id": "7d3aa60c",
    "nbgrader": {
     "grade": true,
     "grade_id": "palindrome_test2",
     "locked": true,
     "points": 3,
     "schema_version": 3,
     "solution": false,
     "task": false
    }
   },
   "outputs": [],
   "source": [
    "#3points\n",
    "#HIDDEN TEST\n",
    "###BEGIN HIDDEN TESTS\n",
    "assert is_palindrome(\"apple\")  == False\n",
    "###END HIDDEN TESTS"
   ]
  },
  {
   "cell_type": "code",
   "execution_count": 28,
   "id": "9f5508c8",
   "metadata": {
    "id": "229678b4",
    "nbgrader": {
     "grade": true,
     "grade_id": "palindrome_test3",
     "locked": true,
     "points": 3,
     "schema_version": 3,
     "solution": false,
     "task": false
    }
   },
   "outputs": [],
   "source": [
    "#3points\n",
    "#HIDDEN TEST\n",
    "###BEGIN HIDDEN TESTS\n",
    "assert is_palindrome(\"vollov\")  == True\n",
    "###END HIDDEN TESTS"
   ]
  },
  {
   "cell_type": "code",
   "execution_count": 29,
   "id": "9fa3fc42",
   "metadata": {
    "id": "f65b3159",
    "nbgrader": {
     "grade": true,
     "grade_id": "palindrome_test4",
     "locked": true,
     "points": 3,
     "schema_version": 3,
     "solution": false,
     "task": false
    }
   },
   "outputs": [],
   "source": [
    "#3points\n",
    "#HIDDEN TEST\n",
    "###BEGIN HIDDEN TESTS\n",
    "assert is_palindrome(\"123351\")  == False\n",
    "###END HIDDEN TESTS"
   ]
  },
  {
   "cell_type": "markdown",
   "id": "608582ba",
   "metadata": {
    "id": "e4549921",
    "nbgrader": {
     "grade": false,
     "grade_id": "rectangle_intro",
     "locked": true,
     "schema_version": 3,
     "solution": false,
     "task": false
    }
   },
   "source": [
    "## Question 6 Easy rectangle class(15pts)"
   ]
  },
  {
   "cell_type": "code",
   "execution_count": 30,
   "id": "ffa3dfd0",
   "metadata": {
    "id": "0e45d661",
    "nbgrader": {
     "grade": false,
     "grade_id": "area_answer",
     "locked": false,
     "schema_version": 3,
     "solution": true,
     "task": false
    }
   },
   "outputs": [],
   "source": [
    "class Rectangle_area:\n",
    "    def __init__(self, width=0, height=0):\n",
    "        '''\n",
    "        Initialize the rectangle\n",
    "        Input: width, height\n",
    "        Return: none\n",
    "        '''\n",
    "        self.width = width\n",
    "        self.height = height\n",
    "\n",
    "    def area(self):\n",
    "        '''\n",
    "        Calculate the area of the rectangle\n",
    "        Input: none\n",
    "        Return: area of the rectangle\n",
    "        '''\n",
    "        ###BEGIN SOLUTION\n",
    "        return self.width * self.height\n",
    "        ###END SOLUTION\n",
    "\n",
    "    def __eq__(self, other):\n",
    "        '''\n",
    "        Compare the area of two rectangles\n",
    "        Input: other rectangle object\n",
    "        Return: True if the area of two rectangles are equal\n",
    "        '''\n",
    "        return self.area() == other.area()"
   ]
  },
  {
   "cell_type": "code",
   "execution_count": 31,
   "id": "40ac339b",
   "metadata": {
    "id": "9a781fa4",
    "nbgrader": {
     "grade": true,
     "grade_id": "area_test1",
     "locked": true,
     "points": 3,
     "schema_version": 3,
     "solution": false,
     "task": false
    }
   },
   "outputs": [],
   "source": [
    "#3points\n",
    "r = Rectangle_area(5, 10)\n",
    "assert r.area() == 50"
   ]
  },
  {
   "cell_type": "code",
   "execution_count": 32,
   "id": "2e1df4cb",
   "metadata": {
    "id": "d607f68d",
    "nbgrader": {
     "grade": true,
     "grade_id": "area_test2",
     "locked": true,
     "points": 3,
     "schema_version": 3,
     "solution": false,
     "task": false
    }
   },
   "outputs": [],
   "source": [
    "#3points\n",
    "r1 = Rectangle_area(5, 10)\n",
    "r2 = Rectangle_area(2, 25)\n",
    "assert r1 == r2"
   ]
  },
  {
   "cell_type": "code",
   "execution_count": 33,
   "id": "c955f110",
   "metadata": {
    "id": "bf0860b7",
    "nbgrader": {
     "grade": false,
     "grade_id": "perimeter_answer",
     "locked": false,
     "schema_version": 3,
     "solution": true,
     "task": false
    }
   },
   "outputs": [],
   "source": [
    "class Rectangle_perimeter:\n",
    "    def __init__(self, width=0, height=0):\n",
    "        '''\n",
    "        Initialize the rectangle\n",
    "        Input: width, height\n",
    "        Return: none\n",
    "        '''\n",
    "        self.width = width\n",
    "        self.height = height\n",
    "    def perimeter(self):\n",
    "        '''\n",
    "        Calculate the perimeter(周長) of the rectangle\n",
    "        Input: none\n",
    "        Return: perimeter of the rectangle\n",
    "        '''\n",
    "        ###BEGIN SOLUTION\n",
    "        return 2 * (self.width + self.height)\n",
    "        ###END SOLUTION\n",
    "    def __lt__(self, other):\n",
    "        '''\n",
    "        Compare the perimeter of two rectangles (less than)\n",
    "        Input: other rectangle object\n",
    "        Return: True if the perimeter of self is less than the perimeter of other\n",
    "        '''\n",
    "        return self.perimeter() < other.perimeter()"
   ]
  },
  {
   "cell_type": "code",
   "execution_count": 34,
   "id": "8b2ffaa9",
   "metadata": {
    "id": "6b4058b9",
    "nbgrader": {
     "grade": true,
     "grade_id": "perimeter_test1",
     "locked": true,
     "points": 3,
     "schema_version": 3,
     "solution": false,
     "task": false
    }
   },
   "outputs": [],
   "source": [
    "#3points\n",
    "r1 = Rectangle_perimeter(5, 10)\n",
    "assert r1.perimeter() == 30"
   ]
  },
  {
   "cell_type": "code",
   "execution_count": 35,
   "id": "9e4e5bff",
   "metadata": {
    "id": "956005fe",
    "nbgrader": {
     "grade": true,
     "grade_id": "perimeter_test2",
     "locked": true,
     "points": 3,
     "schema_version": 3,
     "solution": false,
     "task": false
    }
   },
   "outputs": [],
   "source": [
    "#3points\n",
    "r1 = Rectangle_perimeter(5, 10)\n",
    "r2 = Rectangle_perimeter(5, 5)\n",
    "assert r1 > r2"
   ]
  },
  {
   "cell_type": "code",
   "execution_count": null,
   "id": "a757ce7d",
   "metadata": {
    "id": "427482d1",
    "nbgrader": {
     "grade": true,
     "grade_id": "perimeter_test3",
     "locked": true,
     "points": 3,
     "schema_version": 3,
     "solution": false,
     "task": false
    }
   },
   "outputs": [],
   "source": [
    "#3points\n",
    "r4 = Rectangle_perimeter(5, 5)\n",
    "assert r4.perimeter() == 20"
   ]
  },
  {
   "cell_type": "markdown",
   "id": "dfbaa24b",
   "metadata": {
    "id": "f820660b",
    "nbgrader": {
     "grade": false,
     "grade_id": "max_intro",
     "locked": true,
     "schema_version": 3,
     "solution": false,
     "task": false
    }
   },
   "source": [
    "##  <h2>Qustion 7: Maximize the value of an expression(10pts) <h2>\n",
    "\n",
    "<h4> Question: </h4> \n",
    "\n",
    "<ul>\n",
    "<h4> Given an array A, maximize value of expression (A[s] - A[r] + A[q] - A[p]), where p, q, r, and s are indices of the array and s > r > q > p.<h4> \n",
    "</ul>\n",
    "\n",
    "\n",
    "\n",
    "<h4> Example: Input \"A (a list with numbers)\"</h4>\n",
    "<ul>\n",
    "<li>Input: A = [3, 9, 10, 1, 30, 40], return = 46 </li>\n",
    "\n",
    "return = \n",
    "<ul>(40 – 1 + 10 – 3)</ul> \n",
    "\n",
    "\n",
    "<li>Input: A = [7, 2, 10, 1, 15, 6], return = 22</li>\n",
    "return = \n",
    "<ul>(15 – 1 + 10 – 2)</ul> \n",
    "</ul>\n"
   ]
  },
  {
   "cell_type": "code",
   "execution_count": null,
   "id": "7346c5bc",
   "metadata": {
    "id": "2136fc7b",
    "nbgrader": {
     "grade": false,
     "grade_id": "max_answer",
     "locked": false,
     "schema_version": 3,
     "solution": true,
     "task": false
    }
   },
   "outputs": [],
   "source": [
    "import sys\n",
    "def maximize(A):\n",
    "    if len(A) < 4:\n",
    "        return -1\n",
    "    ### BEGIN SOLUTION\n",
    "    first = [-sys.maxsize] * (len(A) + 1)\n",
    "    second = [-sys.maxsize] * len(A)\n",
    "    third = [-sys.maxsize] * (len(A) - 1)\n",
    "    fourth = [-sys.maxsize] * (len(A) - 2)\n",
    "\n",
    "    for i in reversed(range(len(A))):\n",
    "        first[i] = max(first[i + 1], A[i])\n",
    " \n",
    "    for i in reversed(range(len(A) - 1)):\n",
    "        second[i] = max(second[i + 1], first[i + 1] - A[i])\n",
    " \n",
    "    for i in reversed(range(len(A) - 2)):\n",
    "        third[i] = max(third[i + 1], second[i + 1] + A[i])\n",
    " \n",
    "    for i in reversed(range(len(A) - 3)):\n",
    "        fourth[i] = max(fourth[i + 1], third[i + 1] - A[i])\n",
    " \n",
    "    return fourth[0]\n",
    "    ### END SOLUTION\n"
   ]
  },
  {
   "cell_type": "code",
   "execution_count": null,
   "id": "fc3c9fb9",
   "metadata": {
    "id": "ef30c6ff",
    "nbgrader": {
     "grade": true,
     "grade_id": "max_test1",
     "locked": true,
     "points": 3,
     "schema_version": 3,
     "solution": false,
     "task": false
    }
   },
   "outputs": [],
   "source": [
    "#3points\n",
    "#HIDDEN TEST\n",
    "###BEGIN HIDDEN TESTS\n",
    "assert maximize([90, 56, 79, 34, 17, 80]) == 86\n",
    "###END HIDDEN TESTS"
   ]
  },
  {
   "cell_type": "code",
   "execution_count": null,
   "id": "b5dcf212",
   "metadata": {
    "id": "8fb8fc1f",
    "nbgrader": {
     "grade": true,
     "grade_id": "max_test2",
     "locked": true,
     "points": 3,
     "schema_version": 3,
     "solution": false,
     "task": false
    }
   },
   "outputs": [],
   "source": [
    "#3points\n",
    "#HIDDEN TEST\n",
    "###BEGIN HIDDEN TESTS\n",
    "assert maximize([5, 2, 1, 4, 7, 8, 1, 2, 6, 4]) == 12\n",
    "###END HIDDEN TESTS"
   ]
  },
  {
   "cell_type": "code",
   "execution_count": null,
   "id": "25d9489c",
   "metadata": {
    "id": "2b4354b9",
    "nbgrader": {
     "grade": true,
     "grade_id": "max_test3",
     "locked": true,
     "points": 4,
     "schema_version": 3,
     "solution": false,
     "task": false
    }
   },
   "outputs": [],
   "source": [
    "#4points\n",
    "#HIDDEN TEST\n",
    "###BEGIN HIDDEN TESTS\n",
    "assert maximize([76, 234, 67, 8798, 2, 43, 65, 343]) == 9072\n",
    "###END HIDDEN TESTS"
   ]
  },
  {
   "cell_type": "markdown",
   "id": "6c92e32f",
   "metadata": {
    "id": "892fdfba",
    "nbgrader": {
     "grade": false,
     "grade_id": "dice_intro",
     "locked": true,
     "schema_version": 3,
     "solution": false,
     "task": false
    }
   },
   "source": [
    "###  <h2>Question 8: Dice Rolls With Target Sum (10pts) <h2>\n",
    "\n",
    "<h4> Question: </h4> \n",
    "\n",
    "<ul>\n",
    "<h4> You have one dice which has \"f\" faces numbered from 1 to f.<h4> \n",
    "\n",
    "<h4> Given two integers \"f\", and \"target\", return the number of possible ways (out of the total ways in combination) to roll the dice, so the sum of the face-up numbers equals target. </h4>\n",
    "</ul>\n",
    "\n",
    "\n",
    "<h4> Input Range: <h4> \n",
    "<ul>\n",
    "<li>f:      1 <=    f   <= 12</li>\n",
    "<li>target: 1 <= target <= 180</li>\n",
    "</ul>\n",
    "\n",
    "<h4> Hint: Think about fibonacci series before you start.<h4> \n",
    "\n",
    "\n",
    "\n",
    "<h4> Example: Input \"f (number of faces on one dice)\", \"target (the sum of the face-up numbers we desired)\"</h4>\n",
    "<ul>\n",
    "<li>Input: f = 6, target = 10, return = 492</li>\n",
    "<li>Input: f = 12, target = 50, return = 560272829388800</li>\n",
    "<li>Input: f = 3, target = 5, return = 13</li>\n",
    "</ul>\n"
   ]
  },
  {
   "cell_type": "code",
   "execution_count": null,
   "id": "096d332b",
   "metadata": {
    "id": "577daa4b",
    "nbgrader": {
     "grade": false,
     "grade_id": "dice_answer",
     "locked": false,
     "schema_version": 3,
     "solution": true,
     "task": false
    }
   },
   "outputs": [],
   "source": [
    "import numpy as np\n",
    "def dice_problem(k, target):\n",
    "    ###BEGIN SOLUTION\n",
    "    dp = np.zeros(target)\n",
    "    for init in range(target):\n",
    "        if init < k:\n",
    "            dp[init] = 1\n",
    "        else:\n",
    "            break\n",
    "    for index in range(1, target + 1):\n",
    "        for subproblem in range(1, k + 1):\n",
    "            if index - 1 - subproblem >= 0:\n",
    "                dp[index - 1] += dp[index - 1 - subproblem]\n",
    "    return int(dp[target - 1])\n",
    "    ###END SOLUTION"
   ]
  },
  {
   "cell_type": "code",
   "execution_count": null,
   "id": "4e5b7e7f",
   "metadata": {
    "id": "e2c11541",
    "nbgrader": {
     "grade": true,
     "grade_id": "dice_test1",
     "locked": true,
     "points": 3,
     "schema_version": 3,
     "solution": false,
     "task": false
    }
   },
   "outputs": [],
   "source": [
    "#3points\n",
    "#HIDDEN TEST\n",
    "###BEGIN HIDDEN TESTS\n",
    "assert dice_problem(7, 42) == 1903176584632\n",
    "###END HIDDEN TESTS"
   ]
  },
  {
   "cell_type": "code",
   "execution_count": null,
   "id": "f31fc9e1",
   "metadata": {
    "id": "55b92277",
    "nbgrader": {
     "grade": true,
     "grade_id": "dice_test2",
     "locked": true,
     "points": 3,
     "schema_version": 3,
     "solution": false,
     "task": false
    }
   },
   "outputs": [],
   "source": [
    "#3points\n",
    "#HIDDEN TEST\n",
    "###BEGIN HIDDEN TESTS\n",
    "assert dice_problem(6, 17) == 59448\n",
    "###END HIDDEN TESTS"
   ]
  },
  {
   "cell_type": "code",
   "execution_count": null,
   "id": "f1f87238",
   "metadata": {
    "id": "1b9a679f",
    "nbgrader": {
     "grade": true,
     "grade_id": "dice_test3",
     "locked": true,
     "points": 4,
     "schema_version": 3,
     "solution": false,
     "task": false
    }
   },
   "outputs": [],
   "source": [
    "#4points\n",
    "#HIDDEN TEST\n",
    "###BEGIN HIDDEN TESTS\n",
    "assert (dice_problem(12, 55) == 17917774325022940)\n",
    "###END HIDDEN TESTS"
   ]
  },
  {
   "cell_type": "markdown",
   "id": "4dd5e70a",
   "metadata": {
    "id": "38037ccd"
   },
   "source": [
    "Some good dp answer to solve dice problem"
   ]
  },
  {
   "cell_type": "code",
   "execution_count": null,
   "id": "029320b3",
   "metadata": {
    "id": "af49fad5"
   },
   "outputs": [],
   "source": [
    "def dice_problem_example2(k, target, dictionary=None):\n",
    "    if dictionary == None:\n",
    "        dictionary = {}\n",
    "    \n",
    "    # YOUR CODE HERE\n",
    "    # raise NotImplementedError()\n",
    "    count = 0\n",
    "    if target == 0:\n",
    "        return 1\n",
    "    \n",
    "    elif target in dictionary.keys():\n",
    "        #print(\"using shortcut\")\n",
    "        return dictionary[target]\n",
    "    \n",
    "    else:\n",
    "        for dice_point in range(1, k+1):\n",
    "            if target >= dice_point:\n",
    "                count += dice_problem_example2(k, target-dice_point, dictionary)\n",
    "\n",
    "        dictionary[target] = count\n",
    "        print(f\"added {target} => {count}\")\n",
    "        return count\n"
   ]
  },
  {
   "cell_type": "code",
   "execution_count": null,
   "id": "e028604f",
   "metadata": {
    "id": "1e9a036c",
    "outputId": "7391e8c9-52f3-4242-b6f5-36a7d587c1bb"
   },
   "outputs": [
    {
     "name": "stdout",
     "output_type": "stream",
     "text": [
      "added 1 => 1\n",
      "added 2 => 2\n",
      "added 3 => 4\n",
      "added 4 => 8\n",
      "added 5 => 16\n",
      "added 6 => 32\n",
      "added 7 => 64\n",
      "added 8 => 128\n",
      "added 9 => 256\n",
      "added 10 => 512\n",
      "added 11 => 1024\n",
      "added 12 => 2048\n",
      "added 13 => 4095\n",
      "added 14 => 8189\n",
      "added 15 => 16376\n",
      "added 16 => 32748\n",
      "added 17 => 65488\n",
      "added 18 => 130960\n",
      "added 19 => 261888\n",
      "added 20 => 523712\n",
      "added 21 => 1047296\n",
      "added 22 => 2094336\n",
      "added 23 => 4188160\n",
      "added 24 => 8375296\n",
      "added 25 => 16748544\n",
      "added 26 => 33492993\n",
      "added 27 => 66977797\n",
      "added 28 => 133939218\n",
      "added 29 => 267845688\n",
      "added 30 => 535625888\n",
      "added 31 => 1071120816\n",
      "added 32 => 2141979744\n",
      "added 33 => 4283435776\n",
      "added 34 => 8565824256\n",
      "added 35 => 17129554176\n",
      "added 36 => 34254920192\n",
      "added 37 => 68501465088\n",
      "added 38 => 136986181632\n",
      "added 39 => 273938870271\n",
      "added 40 => 547810762745\n",
      "added 41 => 1095487586272\n",
      "added 42 => 2190707326856\n",
      "added 43 => 4380879027824\n",
      "added 44 => 8760686934832\n",
      "added 45 => 17519231889920\n",
      "added 46 => 35034180344064\n",
      "added 47 => 70059794863872\n",
      "added 48 => 140102460173568\n",
      "added 49 => 280170665426944\n",
      "added 50 => 560272829388800\n",
      "added 51 => 1120408672595968\n",
      "added 52 => 2240543406321665\n",
      "added 53 => 4480539001880585\n",
      "added 54 => 8959982516174898\n",
      "added 55 => 17917774325022940\n",
      "17917774325022940\n"
     ]
    }
   ],
   "source": [
    "print(dice_problem_example2(12, 55))"
   ]
  },
  {
   "cell_type": "code",
   "execution_count": null,
   "id": "a226534b",
   "metadata": {
    "id": "89b51859"
   },
   "outputs": [],
   "source": [
    "def dice_problem_example3(k, target):\n",
    "    # YOUR CODE HERE\n",
    "    dp = [0] * (target + 1)\n",
    "    dp[0]=1\n",
    "    dp[1]=1\n",
    "    for i in range(2,target+1):\n",
    "        counter=0\n",
    "        count_down=i-1\n",
    "        while counter<k and count_down>=0:\n",
    "            dp[i]+=dp[count_down]\n",
    "            count_down-=1\n",
    "            counter+=1\n",
    "    return dp[target]\n",
    "    #raise NotImplementedError()"
   ]
  },
  {
   "cell_type": "code",
   "execution_count": null,
   "id": "a5cb7907",
   "metadata": {
    "id": "ebca1f67",
    "outputId": "d398700d-23f5-4dcf-b3d9-eafc85b9225f"
   },
   "outputs": [
    {
     "name": "stdout",
     "output_type": "stream",
     "text": [
      "17917774325022940\n"
     ]
    }
   ],
   "source": [
    "print(dice_problem_example3(12, 55))"
   ]
  }
 ],
 "metadata": {
  "celltoolbar": "Create Assignment",
  "colab": {
   "provenance": []
  },
  "kernelspec": {
   "display_name": "Python 3 (ipykernel)",
   "language": "python",
   "name": "python3"
  },
  "language_info": {
   "codemirror_mode": {
    "name": "ipython",
    "version": 3
   },
   "file_extension": ".py",
   "mimetype": "text/x-python",
   "name": "python",
   "nbconvert_exporter": "python",
   "pygments_lexer": "ipython3",
   "version": "3.8.10"
  }
 },
 "nbformat": 4,
 "nbformat_minor": 5
}
